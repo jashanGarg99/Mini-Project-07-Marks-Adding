{
  "nbformat": 4,
  "nbformat_minor": 0,
  "metadata": {
    "colab": {
      "provenance": [],
      "authorship_tag": "ABX9TyO0aw02Z3oh84/I/7cQU1x+",
      "include_colab_link": true
    },
    "kernelspec": {
      "name": "python3",
      "display_name": "Python 3"
    },
    "language_info": {
      "name": "python"
    }
  },
  "cells": [
    {
      "cell_type": "markdown",
      "metadata": {
        "id": "view-in-github",
        "colab_type": "text"
      },
      "source": [
        "<a href=\"https://colab.research.google.com/github/jashanGarg99/Mini-Project-07-Marks-Adding/blob/main/mini_project_7.ipynb\" target=\"_parent\"><img src=\"https://colab.research.google.com/assets/colab-badge.svg\" alt=\"Open In Colab\"/></a>"
      ]
    },
    {
      "cell_type": "code",
      "execution_count": 2,
      "metadata": {
        "colab": {
          "base_uri": "https://localhost:8080/"
        },
        "id": "NfkUbPV4LQF7",
        "outputId": "9b6ae763-f97f-4f36-c02f-25d30a50bb19"
      },
      "outputs": [
        {
          "output_type": "stream",
          "name": "stdout",
          "text": [
            "Total marks written to 'total_marks.csv'\n"
          ]
        }
      ],
      "source": [
        "import pandas as pd\n",
        "\n",
        "# Read the input CSV file\n",
        "input_file = \"Marks_Adding.csv\"\n",
        "df = pd.read_csv(input_file)\n",
        "\n",
        "# Group by 'Roll' and sum the 'Marks'\n",
        "total_df = df.groupby(\"Roll Num\", as_index=False)[\"Marks\"].sum()\n",
        "total_df.rename(columns={\"Marks\": \"TotalMarks\"}, inplace=True)\n",
        "\n",
        "# Save the result to a new CSV file\n",
        "output_file = \"total_marks.csv\"\n",
        "total_df.to_csv(output_file, index=False)\n",
        "\n",
        "print(f\"Total marks written to '{output_file}'\")\n"
      ]
    }
  ]
}